{
 "cells": [
  {
   "cell_type": "markdown",
   "id": "9e556a2a-9f85-4361-a8a1-9d34b227d39b",
   "metadata": {},
   "source": [
    "---\n",
    "## Ejercicio 1\n",
    "---\n",
    "- Diego Alberto Leiva\n",
    "- Gustavo Andrés González\n",
    "- José Pablo Orellana\n",
    "---"
   ]
  },
  {
   "cell_type": "markdown",
   "id": "4d172e25-204e-4601-bb94-a306519ebe4c",
   "metadata": {},
   "source": [
    "- **¿Qué es el método de Runge-Kutta y cómo aproxima las soluciones a las EDO?**\n",
    "    - El método de Runge-Kutta es una familia de métodos iterativos utilizados para aproximar las soluciones de ecuaciones diferenciales ordinarias. A diferencia del método de Euler, que utiliza una aproximación lineal basada en la derivada en un solo punto, los métodos de Runge-Kutta utilizan varias evaluaciones de la función en diferentes puntos dentro de un intervalo para obtener una estimación más precisa de la solución. El método más común de esta familia es el de cuarto orden, conocido como RK4, que combina cuatro evaluaciones de la función para proporcionar una aproximación precisa y eficiente.\n",
    "\n",
    "- - -\n",
    "\n",
    "- **¿Cuáles son las ventajas y desventajas del método de Runge-Kutta en comparación con otros métodos numéricos para EDO? (Mencione al menos 2 ventajas y 2 desventajas)**\n",
    "    - **Ventajas:**\n",
    "        - Precisión: Los métodos de Runge-Kutta, especialmente los de orden superior como el RK4, son muy precisos y eficientes para resolver EDO, proporcionando mejores aproximaciones que métodos más simples como el de Euler (Butcher, 2008).\n",
    "\n",
    "        - Estabilidad: Los métodos de Runge-Kutta suelen ser más estables en comparación con métodos como el de Euler, lo que es particularmente útil en problemas donde la estabilidad es crucial (Press et al., 2007).\n",
    "    - **Desventajas:**\n",
    "        - Complejidad computacional: Los métodos de Runge-Kutta requieren más evaluaciones de la función por paso que métodos más simples, lo que aumenta el costo computacional (Chapra & Canale, 2010).\n",
    "\n",
    "- - - \n",
    "\n",
    "- **¿Cómo se diferencia el método de Euler y el método de Runge-Kutta?**\n",
    "    - El método de Euler es un método de primer orden para resolver EDO que utiliza una aproximación lineal basada en la derivada en un solo punto. Es simple y fácil de implementar pero puede ser impreciso y inestable para pasos grandes. En contraste, los métodos de Runge-Kutta, como el RK4, son métodos de orden superior que utilizan múltiples evaluaciones de la función en diferentes puntos dentro del intervalo para obtener una aproximación más precisa y estable. Esto hace que los métodos de Runge-Kutta sean más adecuados para problemas que requieren alta precisión y estabilidad.\n",
    "\n",
    "- - -\n",
    "      \n",
    "- **¿Cómo se puede aplicar el método de Euler y el método de Runge-Kutta modelos epidemiológicos y modelos de depredador-presa?**\n",
    "    - En modelos epidemiológicos y modelos de depredador-presa, las ecuaciones diferenciales ordinarias describen la dinámica de las poblaciones a lo largo del tiempo. El método de Euler puede ser utilizado para obtener una aproximación rápida y sencilla de estas dinámicas, aunque puede ser impreciso para pasos grandes. Por otro lado, el método de Runge-Kutta, especialmente el RK4, proporciona una aproximación más precisa y estable, lo que es crucial para capturar las complejas interacciones entre especies o entre susceptibles, infectados y recuperados en modelos epidemiológicos (Kermack & McKendrick, 1927; Lotka, 1925).\n",
    " \n",
    "- - -"
   ]
  },
  {
   "cell_type": "markdown",
   "id": "de53d847-bccf-43a0-942a-605f4e54dc02",
   "metadata": {},
   "source": [
    "### Referencias"
   ]
  },
  {
   "cell_type": "markdown",
   "id": "b2e79f80-c004-4dbb-9eeb-a8a45a1d0f51",
   "metadata": {},
   "source": [
    "- Butcher, J. C. (2008). Numerical Methods for Ordinary Differential Equations (2nd ed.). John Wiley & Sons.\n",
    "\n",
    "- Chapra, S. C., & Canale, R. P. (2010). Numerical Methods for Engineers (6th ed.). McGraw-Hill.\n",
    "\n",
    "- Kermack, W. O., & McKendrick, A. G. (1927). A Contribution to the Mathematical Theory of Epidemics. Proceedings of the Royal Society A: Mathematical, Physical and Engineering Sciences, 115(772), 700–721.\n",
    "\n",
    "- Press, W. H., Teukolsky, S. A., Vetterling, W. T., & Flannery, B. P. (2007). Numerical Recipes: The Art of Scientific Computing (3rd ed.). Cambridge University Press."
   ]
  },
  {
   "cell_type": "code",
   "execution_count": null,
   "id": "80094c70-f75d-4a5a-989a-e868f65132c6",
   "metadata": {},
   "outputs": [],
   "source": []
  }
 ],
 "metadata": {
  "kernelspec": {
   "display_name": "Python 3 (ipykernel)",
   "language": "python",
   "name": "python3"
  },
  "language_info": {
   "codemirror_mode": {
    "name": "ipython",
    "version": 3
   },
   "file_extension": ".py",
   "mimetype": "text/x-python",
   "name": "python",
   "nbconvert_exporter": "python",
   "pygments_lexer": "ipython3",
   "version": "3.12.1"
  }
 },
 "nbformat": 4,
 "nbformat_minor": 5
}
