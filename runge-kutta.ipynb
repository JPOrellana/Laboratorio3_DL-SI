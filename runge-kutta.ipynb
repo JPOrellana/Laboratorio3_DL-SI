{
 "cells": [
  {
   "cell_type": "code",
   "execution_count": 18,
   "metadata": {},
   "outputs": [],
   "source": [
    "import math\n",
    "import matplotlib.pyplot as plt"
   ]
  },
  {
   "cell_type": "markdown",
   "metadata": {},
   "source": [
    "## Runge-Kutta Model  \n",
    "Here we define the functions to solve a differential equation using the Runge-Kutta method"
   ]
  },
  {
   "cell_type": "code",
   "execution_count": 28,
   "metadata": {},
   "outputs": [],
   "source": [
    "def rk4_step(t_i, y_i, dt, f):\n",
    "    \"\"\"this function takes a single step using the Runge-Kutta 4th order method \n",
    "\n",
    "    Args:\n",
    "        t_i : The current time\n",
    "        y_i : the current value of the function\n",
    "        dt : the time step\n",
    "        f : the function to be integrated\n",
    "\n",
    "    Returns:\n",
    "        the value of the function at the next time step\n",
    "    \"\"\"\n",
    "    k1 = f(t_i, y_i)\n",
    "    k2 = f(t_i + dt/2, y_i + k1*dt/2)\n",
    "    k3 = f(t_i + dt/2, y_i + k2*dt/2)\n",
    "    k4 = f(t_i + dt, y_i + k3*dt)\n",
    "    return y_i + dt/6*(k1 + 2*k2 + 2*k3 + k4)\n",
    "\n",
    "\n",
    "def solve(t_0: float, y_0: float, t_final: float, dt: float, f: callable):\n",
    "    \"\"\"_summary_\n",
    "\n",
    "    Args:\n",
    "        t_0 (float): _description_\n",
    "        y_0 (float): _description_\n",
    "        t_final (float): _description_\n",
    "        dt (float): _description_\n",
    "        f (callable): _description_\n",
    "    \"\"\"\n",
    "    # computing result\n",
    "    ts = [t_0]\n",
    "    ys = [y_0]\n",
    "\n",
    "    y = y_0    \n",
    "    t = t_0\n",
    "\n",
    "    while t < t_final:\n",
    "        # Solving with Runge-Kutta\n",
    "        y = rk4_step(t, y, dt, f)\n",
    "        # Increasing t\n",
    "        t += dt\n",
    "\n",
    "        # Appending results\n",
    "        ts.append(t)\n",
    "        ys.append(y)\n",
    "\n",
    "    return ts, ys\n",
    "\n",
    "def find_closest(ys, xs, x):\n",
    "    \"\"\" This function finds the closest value to x in the list xs and returns the corresponding value in ys\n",
    "\n",
    "    Args:\n",
    "        xs (list): xs is the list of x values with size n\n",
    "        ys (list): ys is the list of y values with size n\n",
    "        x (float): x is the value to be found\n",
    "\n",
    "    Returns:\n",
    "        the value of the function at the closest value to x\n",
    "    \"\"\"\n",
    "    # Finding the closest value to x\n",
    "    closest = min(xs, key=lambda x0: abs(x0 - x))\n",
    "    # Returning the corresponding value\n",
    "    return ys[xs.index(closest)]\n",
    "\n",
    "\n",
    "def plot_graph(xs, ys):\n",
    "    \"\"\"We plot the graph of the function\n",
    "\n",
    "    Args:\n",
    "        xs (list): xs is the list of x values with size n\n",
    "        ys (list): ys is the list of y values with size n\n",
    "    \"\"\"\n",
    "    plt.plot(ys, xs, color='red', marker='o', linewidth=0.0, label='RK4')    \n",
    "    plt.legend()\n",
    "    plt.show()"
   ]
  },
  {
   "cell_type": "markdown",
   "metadata": {},
   "source": [
    "## Ejercicio 2"
   ]
  },
  {
   "cell_type": "code",
   "execution_count": 11,
   "metadata": {},
   "outputs": [],
   "source": [
    "# Constants for the model\n",
    "R = 0.1\n",
    "K = 1000\n",
    "\n",
    "# Parameters for solving the model\n",
    "P0 = 10  # initial value for p \n",
    "T0 = 0  # initial time\n",
    "H = 0.1  # time step\n",
    "T = 20  # final time\n",
    "\n",
    "def f(t,p):\n",
    "    global R, K\n",
    "    return R*p*(1 - p/K)    "
   ]
  },
  {
   "cell_type": "code",
   "execution_count": 29,
   "metadata": {},
   "outputs": [
    {
     "data": {
      "image/png": "[encoded data removed]",
      "text/plain": [
       "<Figure size 640x480 with 1 Axes>"
      ]
     },
     "metadata": {},
     "output_type": "display_data"
    }
   ],
   "source": [
    "p_points, t_points = solve(T0, P0, T, H, f)\n",
    "plot_graph(t_points, p_points)"
   ]
  },
  {
   "cell_type": "code",
   "execution_count": 22,
   "metadata": {},
   "outputs": [
    {
     "data": {
      "text/plain": [
       "6.999999999999991"
      ]
     },
     "execution_count": 22,
     "metadata": {},
     "output_type": "execute_result"
    }
   ],
   "source": [
    "find_closest(t_points, p_points, 20)"
   ]
  }
 ],
 "metadata": {
  "kernelspec": {
   "display_name": "venv",
   "language": "python",
   "name": "python3"
  },
  "language_info": {
   "codemirror_mode": {
    "name": "ipython",
    "version": 3
   },
   "file_extension": ".py",
   "mimetype": "text/x-python",
   "name": "python",
   "nbconvert_exporter": "python",
   "pygments_lexer": "ipython3",
   "version": "3.12.4"
  }
 },
 "nbformat": 4,
 "nbformat_minor": 2
}
