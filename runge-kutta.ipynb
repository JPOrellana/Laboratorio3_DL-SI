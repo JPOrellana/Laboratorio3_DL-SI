{
 "cells": [
  {
   "cell_type": "markdown",
   "metadata": {},
   "source": [
    "# Modelación y Simulación\n",
    "## Laboratorio 3\n",
    "**Integrantes:**\n",
    "- Gustavo González\n",
    "- Diego Leiva\n",
    "- Pablo Orellana\n",
    "---"
   ]
  },
  {
   "cell_type": "markdown",
   "metadata": {},
   "source": [
    "## Ejercicio 1 - Teoría"
   ]
  },
  {
   "cell_type": "markdown",
   "metadata": {},
   "source": [
    "- **¿Qué es el método de Runge-Kutta y cómo aproxima las soluciones a las EDO?**\n",
    "    - El método de Runge-Kutta es una familia de métodos iterativos utilizados para aproximar las soluciones de ecuaciones diferenciales ordinarias. A diferencia del método de Euler, que utiliza una aproximación lineal basada en la derivada en un solo punto, los métodos de Runge-Kutta utilizan varias evaluaciones de la función en diferentes puntos dentro de un intervalo para obtener una estimación más precisa de la solución. El método más común de esta familia es el de cuarto orden, conocido como RK4, que combina cuatro evaluaciones de la función para proporcionar una aproximación precisa y eficiente.\n",
    "\n",
    "- - -\n",
    "\n",
    "- **¿Cuáles son las ventajas y desventajas del método de Runge-Kutta en comparación con otros métodos numéricos para EDO? (Mencione al menos 2 ventajas y 2 desventajas)**\n",
    "    - **Ventajas:**\n",
    "        - Precisión: Los métodos de Runge-Kutta, especialmente los de orden superior como el RK4, son muy precisos y eficientes para resolver EDO, proporcionando mejores aproximaciones que métodos más simples como el de Euler (Butcher, 2008).\n",
    "\n",
    "        - Estabilidad: Los métodos de Runge-Kutta suelen ser más estables en comparación con métodos como el de Euler, lo que es particularmente útil en problemas donde la estabilidad es crucial (Press et al., 2007).\n",
    "    - **Desventajas:**\n",
    "        - Complejidad computacional: Los métodos de Runge-Kutta requieren más evaluaciones de la función por paso que métodos más simples, lo que aumenta el costo computacional (Chapra & Canale, 2010).\n",
    "\n",
    "- - - \n",
    "\n",
    "- **¿Cómo se diferencia el método de Euler y el método de Runge-Kutta?**\n",
    "    - El método de Euler es un método de primer orden para resolver EDO que utiliza una aproximación lineal basada en la derivada en un solo punto. Es simple y fácil de implementar pero puede ser impreciso y inestable para pasos grandes. En contraste, los métodos de Runge-Kutta, como el RK4, son métodos de orden superior que utilizan múltiples evaluaciones de la función en diferentes puntos dentro del intervalo para obtener una aproximación más precisa y estable. Esto hace que los métodos de Runge-Kutta sean más adecuados para problemas que requieren alta precisión y estabilidad.\n",
    "\n",
    "- - -\n",
    "      \n",
    "- **¿Cómo se puede aplicar el método de Euler y el método de Runge-Kutta modelos epidemiológicos y modelos de depredador-presa?**\n",
    "    - En modelos epidemiológicos y modelos de depredador-presa, las ecuaciones diferenciales ordinarias describen la dinámica de las poblaciones a lo largo del tiempo. El método de Euler puede ser utilizado para obtener una aproximación rápida y sencilla de estas dinámicas, aunque puede ser impreciso para pasos grandes. Por otro lado, el método de Runge-Kutta, especialmente el RK4, proporciona una aproximación más precisa y estable, lo que es crucial para capturar las complejas interacciones entre especies o entre susceptibles, infectados y recuperados en modelos epidemiológicos (Kermack & McKendrick, 1927; Lotka, 1925).\n",
    " \n",
    "- - -"
   ]
  },
  {
   "cell_type": "markdown",
   "metadata": {},
   "source": [
    "### Referencias\n",
    "\n",
    "- Butcher, J. C. (2008). Numerical Methods for Ordinary Differential Equations (2nd ed.). John Wiley & Sons.\n",
    "\n",
    "- Chapra, S. C., & Canale, R. P. (2010). Numerical Methods for Engineers (6th ed.). McGraw-Hill.\n",
    "\n",
    "- Kermack, W. O., & McKendrick, A. G. (1927). A Contribution to the Mathematical Theory of Epidemics. Proceedings of the Royal Society A: Mathematical, Physical and Engineering Sciences, 115(772), 700–721.\n",
    "\n",
    "- Press, W. H., Teukolsky, S. A., Vetterling, W. T., & Flannery, B. P. (2007). Numerical Recipes: The Art of Scientific Computing (3rd ed.). Cambridge University Press."
   ]
  },
  {
   "cell_type": "markdown",
   "metadata": {},
   "source": [
    "## Ejercicio 2 - Método de Runge-Kutta"
   ]
  },
  {
   "cell_type": "code",
   "execution_count": 1,
   "metadata": {},
   "outputs": [],
   "source": [
    "import math\n",
    "import matplotlib.pyplot as plt"
   ]
  },
  {
   "cell_type": "markdown",
   "metadata": {},
   "source": [
    "### Runge-Kutta Model  \n",
    "Here we define the functions to solve a differential equation using the Runge-Kutta method"
   ]
  },
  {
   "cell_type": "code",
   "execution_count": 2,
   "metadata": {},
   "outputs": [],
   "source": [
    "def rk4_step(t_i, y_i, dt, f):\n",
    "    \"\"\"this function takes a single step using the Runge-Kutta 4th order method \n",
    "\n",
    "    Args:\n",
    "        t_i : The current time\n",
    "        y_i : the current value of the function\n",
    "        dt : the time step\n",
    "        f : the function to be integrated\n",
    "\n",
    "    Returns:\n",
    "        the value of the function at the next time step\n",
    "    \"\"\"\n",
    "    k1 = f(t_i, y_i)\n",
    "    k2 = f(t_i + dt/2, y_i + k1*dt/2)\n",
    "    k3 = f(t_i + dt/2, y_i + k2*dt/2)\n",
    "    k4 = f(t_i + dt, y_i + k3*dt)\n",
    "    return y_i + dt/6*(k1 + 2*k2 + 2*k3 + k4)\n",
    "\n",
    "\n",
    "def solve(t_0: float, y_0: float, t_final: float, dt: float, f: callable):\n",
    "    \"\"\"_summary_\n",
    "\n",
    "    Args:\n",
    "        t_0 (float): _description_\n",
    "        y_0 (float): _description_\n",
    "        t_final (float): _description_\n",
    "        dt (float): _description_\n",
    "        f (callable): _description_\n",
    "    \"\"\"\n",
    "    # computing result\n",
    "    ts = [t_0]\n",
    "    ys = [y_0]\n",
    "\n",
    "    y = y_0    \n",
    "    t = t_0\n",
    "\n",
    "    while t < t_final:\n",
    "        # Solving with Runge-Kutta\n",
    "        y = rk4_step(t, y, dt, f)\n",
    "        # Increasing t\n",
    "        t += dt\n",
    "\n",
    "        # Appending results\n",
    "        ts.append(t)\n",
    "        ys.append(y)\n",
    "\n",
    "    return ts, ys\n",
    "\n",
    "\n",
    "def find_closest(ys, xs, x):\n",
    "    \"\"\" This function finds the closest value to x in the list xs and returns the corresponding value in ys\n",
    "\n",
    "    Args:\n",
    "        xs (list): xs is the list of x values with size n\n",
    "        ys (list): ys is the list of y values with size n\n",
    "        x (float): x is the value to be found\n",
    "\n",
    "    Returns:\n",
    "        the value of the function at the closest value to x\n",
    "    \"\"\"\n",
    "    # Finding the closest value to x\n",
    "    closest = min(xs, key=lambda x0: abs(x0 - x))\n",
    "    # Returning the corresponding value\n",
    "    return ys[xs.index(closest)]\n",
    "\n",
    "\n",
    "def plot_graph(xs, ys):\n",
    "    \"\"\"We plot the graph of the function\n",
    "\n",
    "    Args:\n",
    "        xs (list): xs is the list of x values with size n\n",
    "        ys (list): ys is the list of y values with size n\n",
    "    \"\"\"\n",
    "    plt.plot(ys, xs, color='red', marker='o', linewidth=0.0, label='RK4')    \n",
    "    plt.legend()\n",
    "    plt.show()"
   ]
  },
  {
   "cell_type": "markdown",
   "metadata": {},
   "source": [
    "### Ejercicio 2.1 Crecimiento Poblacional"
   ]
  },
  {
   "cell_type": "code",
   "execution_count": 3,
   "metadata": {},
   "outputs": [],
   "source": [
    "# Constants for the model\n",
    "R = 0.1\n",
    "K = 1000\n",
    "\n",
    "# Parameters for solving the model\n",
    "P0 = 10  # initial value for p \n",
    "T0 = 0  # initial time\n",
    "H = 0.1  # time step\n",
    "T = 20  # final time\n",
    "\n",
    "def f(t,p):\n",
    "    global R, K\n",
    "    return R*p*(1 - p/K)    "
   ]
  },
  {
   "cell_type": "code",
   "execution_count": 4,
   "metadata": {},
   "outputs": [
    {
     "data": {
      "image/png": "[encoded data removed]",
      "text/plain": [
       "<Figure size 640x480 with 1 Axes>"
      ]
     },
     "metadata": {},
     "output_type": "display_data"
    }
   ],
   "source": [
    "p_points, t_points = solve(T0, P0, T, H, f)\n",
    "plot_graph(t_points, p_points)"
   ]
  },
  {
   "cell_type": "code",
   "execution_count": 5,
   "metadata": {},
   "outputs": [
    {
     "name": "stdout",
     "output_type": "stream",
     "text": [
      "Population at time 20 is approximately: 69.45\n"
     ]
    }
   ],
   "source": [
    "population = find_closest(t_points, p_points, 20)\n",
    "print(f\"Population at time 20 is approximately: {population:.2f}\")"
   ]
  },
  {
   "cell_type": "markdown",
   "metadata": {},
   "source": [
    "### Ejercicio 2.2 - Depredador - Presa"
   ]
  },
  {
   "cell_type": "code",
   "execution_count": 6,
   "metadata": {},
   "outputs": [],
   "source": [
    "def rk4_step_system(t_i, y_i, z_i, dt, f1, f2):\n",
    "    \"\"\"\n",
    "    This function takes a single step using the Runge-Kutta 4th order method for a system of two equations.\n",
    "\n",
    "    Args:\n",
    "        t_i: The current time\n",
    "        y_i: the current value of the first function\n",
    "        z_i: the current value of the second function\n",
    "        dt: the time step\n",
    "        f1: the first function to be integrated\n",
    "        f2: the second function to be integrated\n",
    "\n",
    "    Returns:\n",
    "        The values of the functions at the next time step\n",
    "    \"\"\"\n",
    "    k1_y = f1(t_i, y_i, z_i)\n",
    "    k1_z = f2(t_i, y_i, z_i)\n",
    "    \n",
    "    k2_y = f1(t_i + dt/2, y_i + k1_y*dt/2, z_i + k1_z*dt/2)\n",
    "    k2_z = f2(t_i + dt/2, y_i + k1_y*dt/2, z_i + k1_z*dt/2)\n",
    "    \n",
    "    k3_y = f1(t_i + dt/2, y_i + k2_y*dt/2, z_i + k2_z*dt/2)\n",
    "    k3_z = f2(t_i + dt/2, y_i + k2_y*dt/2, z_i + k2_z*dt/2)\n",
    "    \n",
    "    k4_y = f1(t_i + dt, y_i + k3_y*dt, z_i + k3_z*dt)\n",
    "    k4_z = f2(t_i + dt, y_i + k3_y*dt, z_i + k3_z*dt)\n",
    "    \n",
    "    y_next = y_i + dt/6 * (k1_y + 2*k2_y + 2*k3_y + k4_y)\n",
    "    z_next = z_i + dt/6 * (k1_z + 2*k2_z + 2*k3_z + k4_z)\n",
    "    \n",
    "    return y_next, z_next\n",
    "\n",
    "def solve_system(t_0, y_0, z_0, T, dt, f1, f2):\n",
    "    \"\"\"\n",
    "    Solves a system of two differential equations using the 4th order Runge-Kutta method.\n",
    "\n",
    "    Args:\n",
    "        t_0: Initial time\n",
    "        y_0: Initial value for the first function\n",
    "        z_0: Initial value for the second function\n",
    "        T: Final time\n",
    "        dt: Time step\n",
    "        f1: The first function to be integrated\n",
    "        f2: The second function to be integrated\n",
    "\n",
    "    Returns:\n",
    "        A tuple containing two lists: the times and the solutions for each function\n",
    "    \"\"\"\n",
    "    ts = [t_0]\n",
    "    ys = [y_0]\n",
    "    zs = [z_0]\n",
    "    \n",
    "    t = t_0\n",
    "    y = y_0\n",
    "    z = z_0\n",
    "    \n",
    "    while t < T:\n",
    "        y, z = rk4_step_system(t, y, z, dt, f1, f2)\n",
    "        t += dt\n",
    "        ts.append(t)\n",
    "        ys.append(y)\n",
    "        zs.append(z)\n",
    "        \n",
    "    return ts, ys, zs\n",
    "\n",
    "\n",
    "def plot_multi_graph(ts, ys, zs):\n",
    "    \"\"\"\n",
    "    Plots the graphs of the functions over time.\n",
    "\n",
    "    Args:\n",
    "        ts: List of time values\n",
    "        ys: List of values for the first function\n",
    "        zs: List of values for the second function\n",
    "    \"\"\"\n",
    "    plt.plot(ts, ys, label='Prey Population (R)')\n",
    "    plt.plot(ts, zs, label='Predator Population (P)')\n",
    "    plt.xlabel('Time')\n",
    "    plt.ylabel('Population')\n",
    "    plt.legend()\n",
    "    plt.show()"
   ]
  },
  {
   "cell_type": "code",
   "execution_count": 7,
   "metadata": {},
   "outputs": [],
   "source": [
    "# Constants for the model\n",
    "ALPHA = 0.1     # Natural prey growth rate\n",
    "BETA = 0.02     # Predation rate\n",
    "DELTA = 0.01    # Predator growth rate per prey eaten\n",
    "GAMMA = 0.1     # Predator death rate\n",
    "\n",
    "# Parameters for solving the model\n",
    "r0 = 40  # Initial prey population\n",
    "p0 = 9   # Initial predator population\n",
    "t0 = 0   # Initial time\n",
    "h = 0.1 # Time step\n",
    "t = 50 # Final time\n",
    "\n",
    "# Predator-prey model Lotka-Volterra equations\n",
    "def prey_growth(t, r, p):\n",
    "    # Prey growth rate\n",
    "    return ALPHA * r - BETA * r * p\n",
    "\n",
    "def predator_growth(t, r, p):\n",
    "    # Predator growth rate\n",
    "    return DELTA * r * p - GAMMA * p"
   ]
  },
  {
   "cell_type": "code",
   "execution_count": 8,
   "metadata": {},
   "outputs": [
    {
     "data": {
      "image/png": "[encoded data removed]",
      "text/plain": [
       "<Figure size 640x480 with 1 Axes>"
      ]
     },
     "metadata": {},
     "output_type": "display_data"
    }
   ],
   "source": [
    "# Solving the system\n",
    "t_points, r_points, p_points = solve_system(t0, r0, p0, t, h, prey_growth, predator_growth)\n",
    "plot_multi_graph(t_points, r_points, p_points)"
   ]
  },
  {
   "cell_type": "code",
   "execution_count": 9,
   "metadata": {},
   "outputs": [
    {
     "name": "stdout",
     "output_type": "stream",
     "text": [
      "Estimated prey population at T=50: 3.07\n",
      "Estimated predator population at T=50: 0.54\n"
     ]
    }
   ],
   "source": [
    "# To find the population at T=50\n",
    "prey_at_t_final = r_points[-1]\n",
    "predator_at_t_final = p_points[-1]\n",
    "print(f\"Estimated prey population at T=50: {prey_at_t_final:.2f}\")\n",
    "print(f\"Estimated predator population at T=50: {predator_at_t_final:.2f}\")"
   ]
  }
 ],
 "metadata": {
  "kernelspec": {
   "display_name": "venv",
   "language": "python",
   "name": "python3"
  },
  "language_info": {
   "codemirror_mode": {
    "name": "ipython",
    "version": 3
   },
   "file_extension": ".py",
   "mimetype": "text/x-python",
   "name": "python",
   "nbconvert_exporter": "python",
   "pygments_lexer": "ipython3",
   "version": "3.11.6"
  }
 },
 "nbformat": 4,
 "nbformat_minor": 2
}
